{
 "cells": [
  {
   "cell_type": "markdown",
   "metadata": {},
   "source": [
    "Лабораторная работа №2\n",
    "\n",
    "Задание 1: Организовать существующую кодовую базу в соответствии с требованиями PEP8 и/или обосновать отступления от него в комментариях к этим отступлениям\n",
    "Задангие 2: Привести скрипты к виду скриптов — особенно касается __main__\n",
    "Задание 3: Закрепить принципы работы с областями видимости\n",
    "Задание 4: Отметить принципы именования переменных и классов в соответствии с PEP8 (можно делать вместе с п.1)\n",
    "\n"
   ]
  },
  {
   "cell_type": "code",
   "execution_count": null,
   "metadata": {},
   "outputs": [],
   "source": [
    "#Задание 1\n",
    "import time           # Импорты размещены по возрастанию названия потому что так код выглядит локаничнее\n",
    "import random          #5\n",
    "import Thread\n",
    "import matplotlib \n",
    "\n",
    "Fruit = [        #3\n",
    "    'Ananas',       #6\n",
    "    'Banan',        #7\n",
    "    'Apple'\n",
    "    ]                 #1\n",
    "\n",
    "\n",
    "\n",
    "\n"
   ]
  },
  {
   "cell_type": "code",
   "execution_count": 4,
   "metadata": {},
   "outputs": [
    {
     "name": "stdout",
     "output_type": "stream",
     "text": [
      "Пожалуйста, введите корректное число\n",
      "Число задано\n",
      "\n"
     ]
    }
   ],
   "source": [
    "# Задание 2\n",
    "Chislo = ''\n",
    "def Choose_chislo():\n",
    "    global Chislo\n",
    "    sort = int(input('Введите число 120 в соответсвии с заданием:'))\n",
    "    if int(sort) == 120:\n",
    "        print('Число задано')\n",
    "    else:\n",
    "        print('Пожалуйста, введите корректное число')\n",
    "        Choose_chislo()\n",
    "\n",
    "def show_Chislo():\n",
    "    print(Chislo)\n",
    "\n",
    "def main():\n",
    "    Choose_chislo()\n",
    "    show_Chislo()\n",
    "\n",
    "if __name__ == '__main__':\n",
    "    main()"
   ]
  },
  {
   "cell_type": "code",
   "execution_count": 10,
   "metadata": {},
   "outputs": [
    {
     "name": "stdout",
     "output_type": "stream",
     "text": [
      "Chislo a=5\n",
      "Chislo a=10\n",
      "Chislo a=15\n"
     ]
    }
   ],
   "source": [
    "#Задание 3\n",
    "a=10\n",
    "def Show_Chislo():\n",
    "    a = 5\n",
    "    print(f'Chislo {a=}')\n",
    "\n",
    "Show_Chislo()\n",
    "print (f'Chislo {a=}')\n",
    "\n",
    "def Show_Chislo2():\n",
    "    global a\n",
    "    a=15\n",
    "    print(f'Chislo {a=}')\n",
    "\n",
    "Show_Chislo2()"
   ]
  }
 ],
 "metadata": {
  "kernelspec": {
   "display_name": "Python 3.10.7 64-bit",
   "language": "python",
   "name": "python3"
  },
  "language_info": {
   "codemirror_mode": {
    "name": "ipython",
    "version": 3
   },
   "file_extension": ".py",
   "mimetype": "text/x-python",
   "name": "python",
   "nbconvert_exporter": "python",
   "pygments_lexer": "ipython3",
   "version": "3.10.7"
  },
  "orig_nbformat": 4,
  "vscode": {
   "interpreter": {
    "hash": "53deb62837a1bbf61a128ad387459ffc026c380ebea8dab6eb576b0da381b4f1"
   }
  }
 },
 "nbformat": 4,
 "nbformat_minor": 2
}
